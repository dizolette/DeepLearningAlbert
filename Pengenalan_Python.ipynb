{
 "cells": [
  {
   "cell_type": "markdown",
   "metadata": {},
   "source": [
    "# Pengenalan Python"
   ]
  },
  {
   "cell_type": "markdown",
   "metadata": {},
   "source": [
    "# apa itu Python?\n",
    "\n",
    "Python merupakan bahasa pemrograman tingkat tinggi yang dirancang oleh Guido van Rossum pada tahun 1991.\n",
    "python lebih menekankan pada keterbacaan kode agar lebih mudah untuk memahami sintaks. Hal ini membuat Python sangat mudah dipelajari.\n"
   ]
  },
  {
   "cell_type": "markdown",
   "metadata": {},
   "source": [
    "# Instalasi Python\n",
    "\n",
    "- kunjungi website python : www.python.org/\n",
    "- Pilih sesuai dengan sistem operasi yang digunakan\n",
    "- pada sistem operasi windows, pilih excecuteable installer\n",
    "- pada saat instalasi pilih \"add python 3.6 to path\" untuk menambahkan pada path environtment variables."
   ]
  },
  {
   "attachments": {},
   "cell_type": "markdown",
   "metadata": {},
   "source": [
    "# Variabel\n",
    "\n",
    "Variabel adalah  lokasi penyimpanan dan terkait nama simbolis yang berisi informasi atau nilai.\n",
    "\n",
    "Aturan Penulisan variable pada python :\n",
    "- Nama variabel diawali huruf atau underscore\n",
    "- Karakter selanjutnya dapat berupa huruf, underscore atau angka.\n",
    "- Nama variabel bersifat case-sensitive\n",
    "- Nama variabel tidak boleh menggunakan kata kunci yang disediakan python."
   ]
  },
  {
   "cell_type": "code",
   "execution_count": 4,
   "metadata": {},
   "outputs": [
    {
     "name": "stdout",
     "output_type": "stream",
     "text": [
      "Budi\n",
      "Andi\n"
     ]
    }
   ],
   "source": [
    "nama = \"Budi\"\n",
    "Nama = \"Andi\"\n",
    "print(nama)\n",
    "print(Nama)"
   ]
  },
  {
   "attachments": {},
   "cell_type": "markdown",
   "metadata": {},
   "source": [
    "# Tipe Data Pada Python\n",
    "\n",
    "Secara umum, tipe data dalam python terdiri dari :\n",
    "- numbers\n",
    "- strings\n",
    "- boolean\n",
    "- List\n",
    "- Tuple\n",
    "- Dictionary\n"
   ]
  },
  {
   "attachments": {},
   "cell_type": "markdown",
   "metadata": {},
   "source": [
    "## Numbers\n",
    "\n",
    "Tipe data numbers atau angka terdapat 2 tipe yaitu :\n",
    "- int: bilangan bulat\n",
    "- float: bilangan pecahan"
   ]
  },
  {
   "cell_type": "code",
   "execution_count": 8,
   "metadata": {},
   "outputs": [
    {
     "data": {
      "text/plain": [
       "int"
      ]
     },
     "execution_count": 8,
     "metadata": {},
     "output_type": "execute_result"
    }
   ],
   "source": [
    "panjang = 10\n",
    "type(panjang)"
   ]
  },
  {
   "cell_type": "code",
   "execution_count": 9,
   "metadata": {},
   "outputs": [
    {
     "data": {
      "text/plain": [
       "float"
      ]
     },
     "execution_count": 9,
     "metadata": {},
     "output_type": "execute_result"
    }
   ],
   "source": [
    "lebar = 5.0\n",
    "type(lebar)"
   ]
  },
  {
   "attachments": {},
   "cell_type": "markdown",
   "metadata": {},
   "source": [
    "## String\n",
    "\n",
    "String : merupakan tipe data yang terdiri dari kumpulan karakter.\n",
    "String dapat menggunakan tanda petik tunggal (‘…..’) maupun ganda(“….”)"
   ]
  },
  {
   "cell_type": "code",
   "execution_count": 11,
   "metadata": {},
   "outputs": [
    {
     "name": "stdout",
     "output_type": "stream",
     "text": [
      "Jakarta\n"
     ]
    }
   ],
   "source": [
    "alamat = 'Jakarta'\n",
    "print(alamat)"
   ]
  },
  {
   "cell_type": "code",
   "execution_count": 12,
   "metadata": {},
   "outputs": [
    {
     "name": "stdout",
     "output_type": "stream",
     "text": [
      "Depok\n"
     ]
    }
   ],
   "source": [
    "Alamat = \"Depok\"\n",
    "print(Alamat)"
   ]
  },
  {
   "attachments": {},
   "cell_type": "markdown",
   "metadata": {},
   "source": [
    "### Metode Manipulasi String\n",
    "\n",
    "Pada tipe data string terdapat beberapa metode yang digunakan untuk memanipulasi atau mengubah string.\n",
    "- upper() : digunakan untuk mengubah string menjadi huruf besar\n",
    "- lower() : mengubah string menjadi huruf kecil\n",
    "- title() : mengubah string menjadi huruf besar pada awal kata.\n",
    "\n",
    "Selain itu terdapat operator yang dapat digunakan pada string :\n",
    "- Concat (+) : menggabungkan string\n",
    "\n"
   ]
  },
  {
   "cell_type": "code",
   "execution_count": 20,
   "metadata": {},
   "outputs": [
    {
     "name": "stdout",
     "output_type": "stream",
     "text": [
      "SELAMAT SIANG \n",
      "selamat siang \n",
      "Selamat Siang \n",
      "selamat siang Teman-Teman\n"
     ]
    }
   ],
   "source": [
    "kata = \"selamat siang \"\n",
    "kata2 = \"Teman-Teman\"\n",
    "print(kata.upper())\n",
    "print(kata.lower())\n",
    "print(kata.title())\n",
    "print(kata + kata2)"
   ]
  },
  {
   "attachments": {},
   "cell_type": "markdown",
   "metadata": {},
   "source": [
    "# Boolean\n",
    "\n",
    "Tipe data boolean adalah tipe data yang hanya memiliki dua nilai yaitu True dan False.\n"
   ]
  },
  {
   "cell_type": "code",
   "execution_count": 23,
   "metadata": {},
   "outputs": [
    {
     "name": "stdout",
     "output_type": "stream",
     "text": [
      "nilai variabel benar : True\n",
      "nilai variabel salah : False\n"
     ]
    }
   ],
   "source": [
    "benar = True\n",
    "salah = False\n",
    "print(\"nilai variabel benar :\", benar)\n",
    "print(\"nilai variabel salah :\", salah)"
   ]
  },
  {
   "attachments": {},
   "cell_type": "markdown",
   "metadata": {},
   "source": [
    "# List\n",
    "\n",
    "Merupakan kumpulan data berurutan yang memiliki index dan setiap elemen dipisahkan dengan koma.\n",
    "List ditandai dengan kurung siku. [.... , ....]\n"
   ]
  },
  {
   "cell_type": "code",
   "execution_count": 31,
   "metadata": {},
   "outputs": [
    {
     "name": "stdout",
     "output_type": "stream",
     "text": [
      "['roti', 'soto', 'mie', 'sop']\n"
     ]
    }
   ],
   "source": [
    "makanan = ['roti','soto','mie','sop']\n",
    "print(makanan)"
   ]
  },
  {
   "cell_type": "markdown",
   "metadata": {},
   "source": [
    "## Akses List"
   ]
  },
  {
   "cell_type": "code",
   "execution_count": 32,
   "metadata": {},
   "outputs": [
    {
     "name": "stdout",
     "output_type": "stream",
     "text": [
      "roti\n",
      "sop\n"
     ]
    }
   ],
   "source": [
    "print(makanan[0])\n",
    "print(makanan[-1])"
   ]
  },
  {
   "cell_type": "markdown",
   "metadata": {},
   "source": [
    "## Update List"
   ]
  },
  {
   "cell_type": "code",
   "execution_count": 34,
   "metadata": {},
   "outputs": [
    {
     "name": "stdout",
     "output_type": "stream",
     "text": [
      "ayam goreng\n",
      "['roti', 'ayam goreng', 'mie', 'sop']\n"
     ]
    }
   ],
   "source": [
    "makanan[1] = \"ayam goreng\"\n",
    "print(makanan[1])\n",
    "print(makanan)"
   ]
  },
  {
   "cell_type": "markdown",
   "metadata": {},
   "source": [
    "## Delete List"
   ]
  },
  {
   "cell_type": "code",
   "execution_count": 35,
   "metadata": {},
   "outputs": [
    {
     "name": "stdout",
     "output_type": "stream",
     "text": [
      "['roti', 'ayam goreng', 'sop']\n"
     ]
    }
   ],
   "source": [
    "del makanan[2]\n",
    "print(makanan)"
   ]
  },
  {
   "attachments": {},
   "cell_type": "markdown",
   "metadata": {},
   "source": [
    "# Tuple\n",
    "\n",
    "Merupakan tipe yang sama dengan list, namun tuple tidak dapat diubah elemen nya seperti pada list.\n",
    "Tuple menggunakan tanda “( “ dan “)”"
   ]
  },
  {
   "cell_type": "code",
   "execution_count": 39,
   "metadata": {},
   "outputs": [
    {
     "name": "stdout",
     "output_type": "stream",
     "text": [
      "('teh', 'kopi', 'air putih')\n"
     ]
    }
   ],
   "source": [
    "minuman = ('teh','kopi','air putih')\n",
    "print(minuman)"
   ]
  },
  {
   "cell_type": "markdown",
   "metadata": {},
   "source": [
    "## Akses Elemen Tuple"
   ]
  },
  {
   "cell_type": "code",
   "execution_count": 41,
   "metadata": {},
   "outputs": [
    {
     "name": "stdout",
     "output_type": "stream",
     "text": [
      "teh\n",
      "air putih\n"
     ]
    }
   ],
   "source": [
    "print(minuman[0])\n",
    "print(minuman[2])"
   ]
  },
  {
   "cell_type": "markdown",
   "metadata": {},
   "source": [
    "## Gabung Elemen Tuple"
   ]
  },
  {
   "cell_type": "code",
   "execution_count": 42,
   "metadata": {},
   "outputs": [
    {
     "name": "stdout",
     "output_type": "stream",
     "text": [
      "('teh', 'kopi', 'air putih', 'jus', 'sirup')\n"
     ]
    }
   ],
   "source": [
    "minuman2 = ('jus','sirup')\n",
    "minuman3 = minuman + minuman2\n",
    "print(minuman3)"
   ]
  },
  {
   "cell_type": "markdown",
   "metadata": {},
   "source": [
    "## Delete Tuple"
   ]
  },
  {
   "cell_type": "code",
   "execution_count": 46,
   "metadata": {},
   "outputs": [
    {
     "ename": "NameError",
     "evalue": "name 'minuman3' is not defined",
     "output_type": "error",
     "traceback": [
      "\u001b[1;31m---------------------------------------------------------------------------\u001b[0m",
      "\u001b[1;31mNameError\u001b[0m                                 Traceback (most recent call last)",
      "\u001b[1;32m<ipython-input-46-e459c228eb06>\u001b[0m in \u001b[0;36m<module>\u001b[1;34m\u001b[0m\n\u001b[1;32m----> 1\u001b[1;33m \u001b[1;32mdel\u001b[0m \u001b[0mminuman3\u001b[0m\u001b[1;33m\u001b[0m\u001b[1;33m\u001b[0m\u001b[0m\n\u001b[0m\u001b[0;32m      2\u001b[0m \u001b[0mprint\u001b[0m\u001b[1;33m(\u001b[0m\u001b[0mminuman3\u001b[0m\u001b[1;33m)\u001b[0m\u001b[1;33m\u001b[0m\u001b[1;33m\u001b[0m\u001b[0m\n",
      "\u001b[1;31mNameError\u001b[0m: name 'minuman3' is not defined"
     ]
    }
   ],
   "source": [
    "del minuman3\n",
    "print(minuman3)"
   ]
  },
  {
   "attachments": {},
   "cell_type": "markdown",
   "metadata": {},
   "source": [
    "# Dictionary\n",
    "\n",
    "kumpulan data berurutan berupa pasangan kunci dan nilai.\n",
    "bentuk dari dictionary adalah sebagai berikut :\n",
    "{'kunci':'nilai' , '...':'...'}"
   ]
  },
  {
   "cell_type": "code",
   "execution_count": 81,
   "metadata": {},
   "outputs": [
    {
     "name": "stdout",
     "output_type": "stream",
     "text": [
      "{'nama': 'Budi', 'umur': 17, 'kelas': '4IA14'}\n"
     ]
    }
   ],
   "source": [
    "data = {'nama':'Budi', 'umur':17, 'kelas':'4IA14'}\n",
    "print(data)"
   ]
  },
  {
   "cell_type": "markdown",
   "metadata": {},
   "source": [
    "## Akses Elemen Dictionary"
   ]
  },
  {
   "cell_type": "code",
   "execution_count": 82,
   "metadata": {},
   "outputs": [
    {
     "name": "stdout",
     "output_type": "stream",
     "text": [
      "nama saya adalah  Budi\n",
      "umur saya  17\n",
      "saya kelas  4IA14\n"
     ]
    }
   ],
   "source": [
    "print(\"nama saya adalah \", data['nama'])\n",
    "print(\"umur saya \", data['umur'])\n",
    "print(\"saya kelas \", data['kelas'])"
   ]
  },
  {
   "cell_type": "markdown",
   "metadata": {},
   "source": [
    "## Update Elemen Dictionary"
   ]
  },
  {
   "cell_type": "code",
   "execution_count": 83,
   "metadata": {},
   "outputs": [
    {
     "name": "stdout",
     "output_type": "stream",
     "text": [
      "{'nama': 'Adi', 'umur': 17, 'kelas': '4IA14'}\n"
     ]
    }
   ],
   "source": [
    "data['nama']=\"Adi\"\n",
    "print(data)"
   ]
  },
  {
   "cell_type": "markdown",
   "metadata": {},
   "source": [
    "## Delete Elemen Dictionary"
   ]
  },
  {
   "cell_type": "code",
   "execution_count": 84,
   "metadata": {},
   "outputs": [
    {
     "name": "stdout",
     "output_type": "stream",
     "text": [
      "{'umur': 17, 'kelas': '4IA14'}\n"
     ]
    }
   ],
   "source": [
    "del data['nama']\n",
    "print(data)"
   ]
  },
  {
   "cell_type": "markdown",
   "metadata": {},
   "source": [
    "# Konversi Tipe Data\n",
    "\n",
    "Konversi tipe data dibutuhkan dalam beberapa kondisi. berikut adalah metode yang digunakan untuk mengubah dari tipe data yang satu ke yang lainnya.\n",
    "\n",
    "- int() : digunakan untuk mengubah tipe data menjadi bertipe integer.\n",
    "- float() : digunakan untuk mengubah tipe data menjadi bertipe float.\n",
    "- str() : digunakan untuk mengubah tipe data menjadi bertipe string.\n",
    "- bool() : digunakan untuk mengubah tipe data menjadi bertipe boolean.\n",
    "- list() : digunakan untuk mengubah tipe data menjadi bertipe list.\n",
    "- tuple() : digunakan untuk mengubah tipe data menjadi bertipe tuple."
   ]
  },
  {
   "cell_type": "code",
   "execution_count": 85,
   "metadata": {},
   "outputs": [
    {
     "name": "stdout",
     "output_type": "stream",
     "text": [
      "('roti', 'ayam goreng', 'sop')\n",
      "['roti', 'ayam goreng', 'sop']\n"
     ]
    }
   ],
   "source": [
    "makanan\n",
    "print(tuple(makanan))\n",
    "print(list(makanan))"
   ]
  },
  {
   "cell_type": "markdown",
   "metadata": {},
   "source": [
    "# Operator\n"
   ]
  },
  {
   "attachments": {},
   "cell_type": "markdown",
   "metadata": {},
   "source": [
    "## Operator Aritmatika\n",
    "- Penjumlahan\n",
    "- Pengurangan\n",
    "- Perkalian\n",
    "- Pembagian\n",
    "- Sisa hasil bagi\n",
    "- Pangkat\n",
    "- Floor"
   ]
  },
  {
   "cell_type": "code",
   "execution_count": 62,
   "metadata": {},
   "outputs": [
    {
     "name": "stdout",
     "output_type": "stream",
     "text": [
      "hasil Penjumlahan : 13\n",
      "hasil Pengurangan : 7\n",
      "hasil Perkalian : 30\n",
      "hasil Pembagian : 3.3333333333333335\n",
      "hasil Modulo : 1\n",
      "hasil Operasi Floor : 3\n"
     ]
    }
   ],
   "source": [
    "a = 10\n",
    "b = 3\n",
    "print(\"hasil Penjumlahan :\" , (a+b))\n",
    "print(\"hasil Pengurangan :\" , (a-b))\n",
    "print(\"hasil Perkalian :\" , (a*b))\n",
    "print(\"hasil Pembagian :\" , (a/b))\n",
    "print(\"hasil Modulo :\" , (a%b))\n",
    "print(\"hasil Operasi Floor :\" , (a//b))"
   ]
  },
  {
   "attachments": {},
   "cell_type": "markdown",
   "metadata": {},
   "source": [
    "## Operator Perbandingan\n",
    "- Sama dengan ( == )\n",
    "- Tidak sama dengan (!=)\n",
    "- Lebih besar dari (>)\n",
    "- Lebih kecil dari (<)\n",
    "- Lebih besar sama dengan (>=)\n",
    "- Lebih kecil sama dengan (<=)"
   ]
  },
  {
   "cell_type": "code",
   "execution_count": 65,
   "metadata": {},
   "outputs": [
    {
     "name": "stdout",
     "output_type": "stream",
     "text": [
      "Operator Sama Dengan :  False\n",
      "Operator Tidak Sama Dengan :  True\n",
      "Operator Lebih Besar :  False\n",
      "Operator Lebih Kecil :  True\n",
      "Operator Lebih Besar Sama Dengan :  False\n",
      "Operator Lebih Kecil Sama Dengan :  True\n"
     ]
    }
   ],
   "source": [
    "c = 5\n",
    "d = 10\n",
    "print(\"Operator Sama Dengan : \", (c == d))\n",
    "print(\"Operator Tidak Sama Dengan : \", (c != d))\n",
    "print(\"Operator Lebih Besar : \", (c > d))\n",
    "print(\"Operator Lebih Kecil : \", (c < d))\n",
    "print(\"Operator Lebih Besar Sama Dengan : \", (c >= d))\n",
    "print(\"Operator Lebih Kecil Sama Dengan : \", (c <= d))"
   ]
  },
  {
   "attachments": {},
   "cell_type": "markdown",
   "metadata": {},
   "source": [
    "## Operator Penugasan\n",
    "- (=) \n",
    "- (+=) \n",
    "- (-=)\n",
    "- (*=)\n",
    "- (/=)\n",
    "- (**=)\n",
    "- (//=)"
   ]
  },
  {
   "cell_type": "code",
   "execution_count": 73,
   "metadata": {},
   "outputs": [
    {
     "name": "stdout",
     "output_type": "stream",
     "text": [
      "nilai e dengan operator += : 7\n",
      "nilai e dengan operator -= : 5\n",
      "nilai e dengan operator *= : 10\n",
      "nilai e dengan operator /= : 5.0\n",
      "nilai e dengan operator **= : 25.0\n",
      "nilai e dengan operator //= : 12.0\n"
     ]
    }
   ],
   "source": [
    "e = 5\n",
    "f = 2\n",
    "\n",
    "e+=f\n",
    "print(\"nilai e dengan operator += :\", e)\n",
    "\n",
    "e-=f\n",
    "print(\"nilai e dengan operator -= :\", e)\n",
    "\n",
    "e*=f\n",
    "print(\"nilai e dengan operator *= :\", e)\n",
    "\n",
    "e/=f\n",
    "print(\"nilai e dengan operator /= :\", e)\n",
    "\n",
    "e**=f\n",
    "print(\"nilai e dengan operator **= :\", e)\n",
    "\n",
    "e//=f\n",
    "print(\"nilai e dengan operator //= :\", e)"
   ]
  },
  {
   "cell_type": "markdown",
   "metadata": {},
   "source": [
    "## Operator Logika\n",
    "- AND\n",
    "- OR\n",
    "- NOT"
   ]
  },
  {
   "cell_type": "code",
   "execution_count": 76,
   "metadata": {},
   "outputs": [
    {
     "name": "stdout",
     "output_type": "stream",
     "text": [
      "operator logika AND :  False\n",
      "operator logika OR :  True\n",
      "operator logika NOT :  False\n"
     ]
    }
   ],
   "source": [
    "g = True\n",
    "h = False\n",
    "print(\"operator logika AND : \", (g and h))\n",
    "print(\"operator logika OR : \", (g or h))\n",
    "print(\"operator logika NOT : \", (not g))"
   ]
  },
  {
   "cell_type": "markdown",
   "metadata": {},
   "source": [
    "## Operator Membership\n",
    "- in\n",
    "- not in"
   ]
  },
  {
   "cell_type": "code",
   "execution_count": 89,
   "metadata": {},
   "outputs": [
    {
     "name": "stdout",
     "output_type": "stream",
     "text": [
      "apakah x berada di list angka?  False\n",
      "apakah y berada di list angka?  True\n",
      "apakah x tidak berada di list angka?  True\n",
      "apakah y tidak berada di list angka?  False\n"
     ]
    }
   ],
   "source": [
    "angka = [1,3,5,7,9]\n",
    "x = 2\n",
    "y = 5\n",
    "print(\"apakah x berada di list angka? \", (x in angka))\n",
    "print(\"apakah y berada di list angka? \", (y in angka))\n",
    "\n",
    "print(\"apakah x tidak berada di list angka? \", (x not in angka))\n",
    "print(\"apakah y tidak berada di list angka? \", (y not in angka))"
   ]
  },
  {
   "attachments": {},
   "cell_type": "markdown",
   "metadata": {},
   "source": [
    "## Operator Bitwise\n",
    "Operator yang bekerja bit per bit.\n",
    "- &  (AND)\n",
    "- | (OR)\n",
    "- ^ (XOR)\n",
    "\n",
    "Angka1 = 60 (0011 1100)\n",
    "Angka2 = 13 (0000 1101)"
   ]
  },
  {
   "cell_type": "code",
   "execution_count": 94,
   "metadata": {},
   "outputs": [
    {
     "name": "stdout",
     "output_type": "stream",
     "text": [
      "12\n",
      "61\n"
     ]
    }
   ],
   "source": [
    "angka1 = 60\n",
    "angka2 = 13\n",
    "print(angka1 & angka2)\n",
    "print(angka1 | angka2)"
   ]
  },
  {
   "cell_type": "markdown",
   "metadata": {},
   "source": [
    "# Percabangan\n",
    "percabangan pada python terdapat 2 jenis yaitu :\n",
    "- If else\n",
    "- If elif else"
   ]
  },
  {
   "cell_type": "code",
   "execution_count": 96,
   "metadata": {},
   "outputs": [
    {
     "name": "stdout",
     "output_type": "stream",
     "text": [
      "Anda Tidak Lulus\n"
     ]
    }
   ],
   "source": [
    "nilaiAkhir = 50;\n",
    "if nilaiAkhir < 70:\n",
    "    print(\"Anda Tidak Lulus\")\n",
    "else:\n",
    "    print(\"Anda Lulus\")"
   ]
  },
  {
   "cell_type": "markdown",
   "metadata": {},
   "source": [
    "# Perulangan\n",
    "perulangan pada python terdapat 2 jenis yaitu :\n",
    "- for\n",
    "- while"
   ]
  },
  {
   "cell_type": "markdown",
   "metadata": {},
   "source": [
    "#### For Loop"
   ]
  },
  {
   "cell_type": "code",
   "execution_count": 100,
   "metadata": {},
   "outputs": [
    {
     "name": "stdout",
     "output_type": "stream",
     "text": [
      "0\n",
      "1\n",
      "2\n",
      "3\n",
      "4\n"
     ]
    }
   ],
   "source": [
    "for i in range(5):\n",
    "    print(i)"
   ]
  },
  {
   "cell_type": "markdown",
   "metadata": {},
   "source": [
    "#### while Loop"
   ]
  },
  {
   "cell_type": "code",
   "execution_count": 101,
   "metadata": {},
   "outputs": [
    {
     "name": "stdout",
     "output_type": "stream",
     "text": [
      "0\n",
      "1\n",
      "2\n",
      "3\n",
      "4\n"
     ]
    }
   ],
   "source": [
    "x1 = 0\n",
    "while (x1 < 5):\n",
    "    print(x1)\n",
    "    x1 += 1"
   ]
  }
 ],
 "metadata": {
  "kernelspec": {
   "display_name": "Python 3",
   "language": "python",
   "name": "python3"
  },
  "language_info": {
   "codemirror_mode": {
    "name": "ipython",
    "version": 3
   },
   "file_extension": ".py",
   "mimetype": "text/x-python",
   "name": "python",
   "nbconvert_exporter": "python",
   "pygments_lexer": "ipython3",
   "version": "3.7.1"
  }
 },
 "nbformat": 4,
 "nbformat_minor": 2
}
